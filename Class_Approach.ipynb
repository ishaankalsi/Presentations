{
 "cells": [
  {
   "cell_type": "code",
   "execution_count": 2,
   "metadata": {},
   "outputs": [],
   "source": [
    "import pandas as pd\n",
    "import matplotlib.pyplot as plt\n",
    "import numpy as np"
   ]
  },
  {
   "cell_type": "code",
   "execution_count": 3,
   "metadata": {},
   "outputs": [],
   "source": [
    "df = pd.read_csv(\"/home/ishaan/Codes/Presentations/Projects/facial-keypoints-detection/training.csv\")"
   ]
  },
  {
   "cell_type": "code",
   "execution_count": 4,
   "metadata": {},
   "outputs": [
    {
     "data": {
      "text/html": [
       "<div>\n",
       "<style scoped>\n",
       "    .dataframe tbody tr th:only-of-type {\n",
       "        vertical-align: middle;\n",
       "    }\n",
       "\n",
       "    .dataframe tbody tr th {\n",
       "        vertical-align: top;\n",
       "    }\n",
       "\n",
       "    .dataframe thead th {\n",
       "        text-align: right;\n",
       "    }\n",
       "</style>\n",
       "<table border=\"1\" class=\"dataframe\">\n",
       "  <thead>\n",
       "    <tr style=\"text-align: right;\">\n",
       "      <th></th>\n",
       "      <th>left_eye_center_x</th>\n",
       "      <th>left_eye_center_y</th>\n",
       "      <th>right_eye_center_x</th>\n",
       "      <th>right_eye_center_y</th>\n",
       "      <th>left_eye_inner_corner_x</th>\n",
       "      <th>left_eye_inner_corner_y</th>\n",
       "      <th>left_eye_outer_corner_x</th>\n",
       "      <th>left_eye_outer_corner_y</th>\n",
       "      <th>right_eye_inner_corner_x</th>\n",
       "      <th>right_eye_inner_corner_y</th>\n",
       "      <th>...</th>\n",
       "      <th>nose_tip_y</th>\n",
       "      <th>mouth_left_corner_x</th>\n",
       "      <th>mouth_left_corner_y</th>\n",
       "      <th>mouth_right_corner_x</th>\n",
       "      <th>mouth_right_corner_y</th>\n",
       "      <th>mouth_center_top_lip_x</th>\n",
       "      <th>mouth_center_top_lip_y</th>\n",
       "      <th>mouth_center_bottom_lip_x</th>\n",
       "      <th>mouth_center_bottom_lip_y</th>\n",
       "      <th>Image</th>\n",
       "    </tr>\n",
       "  </thead>\n",
       "  <tbody>\n",
       "    <tr>\n",
       "      <th>0</th>\n",
       "      <td>66.033564</td>\n",
       "      <td>39.002274</td>\n",
       "      <td>30.227008</td>\n",
       "      <td>36.421678</td>\n",
       "      <td>59.582075</td>\n",
       "      <td>39.647423</td>\n",
       "      <td>73.130346</td>\n",
       "      <td>39.969997</td>\n",
       "      <td>36.356571</td>\n",
       "      <td>37.389402</td>\n",
       "      <td>...</td>\n",
       "      <td>57.066803</td>\n",
       "      <td>61.195308</td>\n",
       "      <td>79.970165</td>\n",
       "      <td>28.614496</td>\n",
       "      <td>77.388992</td>\n",
       "      <td>43.312602</td>\n",
       "      <td>72.935459</td>\n",
       "      <td>43.130707</td>\n",
       "      <td>84.485774</td>\n",
       "      <td>238 236 237 238 240 240 239 241 241 243 240 23...</td>\n",
       "    </tr>\n",
       "    <tr>\n",
       "      <th>1</th>\n",
       "      <td>64.332936</td>\n",
       "      <td>34.970077</td>\n",
       "      <td>29.949277</td>\n",
       "      <td>33.448715</td>\n",
       "      <td>58.856170</td>\n",
       "      <td>35.274349</td>\n",
       "      <td>70.722723</td>\n",
       "      <td>36.187166</td>\n",
       "      <td>36.034723</td>\n",
       "      <td>34.361532</td>\n",
       "      <td>...</td>\n",
       "      <td>55.660936</td>\n",
       "      <td>56.421447</td>\n",
       "      <td>76.352000</td>\n",
       "      <td>35.122383</td>\n",
       "      <td>76.047660</td>\n",
       "      <td>46.684596</td>\n",
       "      <td>70.266553</td>\n",
       "      <td>45.467915</td>\n",
       "      <td>85.480170</td>\n",
       "      <td>219 215 204 196 204 211 212 200 180 168 178 19...</td>\n",
       "    </tr>\n",
       "    <tr>\n",
       "      <th>2</th>\n",
       "      <td>65.057053</td>\n",
       "      <td>34.909642</td>\n",
       "      <td>30.903789</td>\n",
       "      <td>34.909642</td>\n",
       "      <td>59.412000</td>\n",
       "      <td>36.320968</td>\n",
       "      <td>70.984421</td>\n",
       "      <td>36.320968</td>\n",
       "      <td>37.678105</td>\n",
       "      <td>36.320968</td>\n",
       "      <td>...</td>\n",
       "      <td>53.538947</td>\n",
       "      <td>60.822947</td>\n",
       "      <td>73.014316</td>\n",
       "      <td>33.726316</td>\n",
       "      <td>72.732000</td>\n",
       "      <td>47.274947</td>\n",
       "      <td>70.191789</td>\n",
       "      <td>47.274947</td>\n",
       "      <td>78.659368</td>\n",
       "      <td>144 142 159 180 188 188 184 180 167 132 84 59 ...</td>\n",
       "    </tr>\n",
       "    <tr>\n",
       "      <th>3</th>\n",
       "      <td>65.225739</td>\n",
       "      <td>37.261774</td>\n",
       "      <td>32.023096</td>\n",
       "      <td>37.261774</td>\n",
       "      <td>60.003339</td>\n",
       "      <td>39.127179</td>\n",
       "      <td>72.314713</td>\n",
       "      <td>38.380967</td>\n",
       "      <td>37.618643</td>\n",
       "      <td>38.754115</td>\n",
       "      <td>...</td>\n",
       "      <td>54.166539</td>\n",
       "      <td>65.598887</td>\n",
       "      <td>72.703722</td>\n",
       "      <td>37.245496</td>\n",
       "      <td>74.195478</td>\n",
       "      <td>50.303165</td>\n",
       "      <td>70.091687</td>\n",
       "      <td>51.561183</td>\n",
       "      <td>78.268383</td>\n",
       "      <td>193 192 193 194 194 194 193 192 168 111 50 12 ...</td>\n",
       "    </tr>\n",
       "    <tr>\n",
       "      <th>4</th>\n",
       "      <td>66.725301</td>\n",
       "      <td>39.621261</td>\n",
       "      <td>32.244810</td>\n",
       "      <td>38.042032</td>\n",
       "      <td>58.565890</td>\n",
       "      <td>39.621261</td>\n",
       "      <td>72.515926</td>\n",
       "      <td>39.884466</td>\n",
       "      <td>36.982380</td>\n",
       "      <td>39.094852</td>\n",
       "      <td>...</td>\n",
       "      <td>64.889521</td>\n",
       "      <td>60.671411</td>\n",
       "      <td>77.523239</td>\n",
       "      <td>31.191755</td>\n",
       "      <td>76.997301</td>\n",
       "      <td>44.962748</td>\n",
       "      <td>73.707387</td>\n",
       "      <td>44.227141</td>\n",
       "      <td>86.871166</td>\n",
       "      <td>147 148 160 196 215 214 216 217 219 220 206 18...</td>\n",
       "    </tr>\n",
       "    <tr>\n",
       "      <th>5</th>\n",
       "      <td>69.680748</td>\n",
       "      <td>39.968748</td>\n",
       "      <td>29.183551</td>\n",
       "      <td>37.563364</td>\n",
       "      <td>62.864299</td>\n",
       "      <td>40.169271</td>\n",
       "      <td>76.898243</td>\n",
       "      <td>41.171888</td>\n",
       "      <td>36.401047</td>\n",
       "      <td>39.367626</td>\n",
       "      <td>...</td>\n",
       "      <td>58.800000</td>\n",
       "      <td>64.869084</td>\n",
       "      <td>82.471178</td>\n",
       "      <td>31.990430</td>\n",
       "      <td>81.669084</td>\n",
       "      <td>49.308112</td>\n",
       "      <td>78.487626</td>\n",
       "      <td>49.432374</td>\n",
       "      <td>93.898766</td>\n",
       "      <td>167 169 170 167 156 145 106 68 52 24 20 15 21 ...</td>\n",
       "    </tr>\n",
       "  </tbody>\n",
       "</table>\n",
       "<p>6 rows × 31 columns</p>\n",
       "</div>"
      ],
      "text/plain": [
       "   left_eye_center_x  left_eye_center_y  right_eye_center_x  \\\n",
       "0          66.033564          39.002274           30.227008   \n",
       "1          64.332936          34.970077           29.949277   \n",
       "2          65.057053          34.909642           30.903789   \n",
       "3          65.225739          37.261774           32.023096   \n",
       "4          66.725301          39.621261           32.244810   \n",
       "5          69.680748          39.968748           29.183551   \n",
       "\n",
       "   right_eye_center_y  left_eye_inner_corner_x  left_eye_inner_corner_y  \\\n",
       "0           36.421678                59.582075                39.647423   \n",
       "1           33.448715                58.856170                35.274349   \n",
       "2           34.909642                59.412000                36.320968   \n",
       "3           37.261774                60.003339                39.127179   \n",
       "4           38.042032                58.565890                39.621261   \n",
       "5           37.563364                62.864299                40.169271   \n",
       "\n",
       "   left_eye_outer_corner_x  left_eye_outer_corner_y  right_eye_inner_corner_x  \\\n",
       "0                73.130346                39.969997                 36.356571   \n",
       "1                70.722723                36.187166                 36.034723   \n",
       "2                70.984421                36.320968                 37.678105   \n",
       "3                72.314713                38.380967                 37.618643   \n",
       "4                72.515926                39.884466                 36.982380   \n",
       "5                76.898243                41.171888                 36.401047   \n",
       "\n",
       "   right_eye_inner_corner_y  \\\n",
       "0                 37.389402   \n",
       "1                 34.361532   \n",
       "2                 36.320968   \n",
       "3                 38.754115   \n",
       "4                 39.094852   \n",
       "5                 39.367626   \n",
       "\n",
       "                         ...                          nose_tip_y  \\\n",
       "0                        ...                           57.066803   \n",
       "1                        ...                           55.660936   \n",
       "2                        ...                           53.538947   \n",
       "3                        ...                           54.166539   \n",
       "4                        ...                           64.889521   \n",
       "5                        ...                           58.800000   \n",
       "\n",
       "   mouth_left_corner_x  mouth_left_corner_y  mouth_right_corner_x  \\\n",
       "0            61.195308            79.970165             28.614496   \n",
       "1            56.421447            76.352000             35.122383   \n",
       "2            60.822947            73.014316             33.726316   \n",
       "3            65.598887            72.703722             37.245496   \n",
       "4            60.671411            77.523239             31.191755   \n",
       "5            64.869084            82.471178             31.990430   \n",
       "\n",
       "   mouth_right_corner_y  mouth_center_top_lip_x  mouth_center_top_lip_y  \\\n",
       "0             77.388992               43.312602               72.935459   \n",
       "1             76.047660               46.684596               70.266553   \n",
       "2             72.732000               47.274947               70.191789   \n",
       "3             74.195478               50.303165               70.091687   \n",
       "4             76.997301               44.962748               73.707387   \n",
       "5             81.669084               49.308112               78.487626   \n",
       "\n",
       "   mouth_center_bottom_lip_x  mouth_center_bottom_lip_y  \\\n",
       "0                  43.130707                  84.485774   \n",
       "1                  45.467915                  85.480170   \n",
       "2                  47.274947                  78.659368   \n",
       "3                  51.561183                  78.268383   \n",
       "4                  44.227141                  86.871166   \n",
       "5                  49.432374                  93.898766   \n",
       "\n",
       "                                               Image  \n",
       "0  238 236 237 238 240 240 239 241 241 243 240 23...  \n",
       "1  219 215 204 196 204 211 212 200 180 168 178 19...  \n",
       "2  144 142 159 180 188 188 184 180 167 132 84 59 ...  \n",
       "3  193 192 193 194 194 194 193 192 168 111 50 12 ...  \n",
       "4  147 148 160 196 215 214 216 217 219 220 206 18...  \n",
       "5  167 169 170 167 156 145 106 68 52 24 20 15 21 ...  \n",
       "\n",
       "[6 rows x 31 columns]"
      ]
     },
     "execution_count": 4,
     "metadata": {},
     "output_type": "execute_result"
    }
   ],
   "source": [
    "df.head(6)"
   ]
  },
  {
   "cell_type": "code",
   "execution_count": 5,
   "metadata": {},
   "outputs": [
    {
     "data": {
      "text/plain": [
       "Index(['left_eye_center_x', 'left_eye_center_y', 'right_eye_center_x',\n",
       "       'right_eye_center_y', 'left_eye_inner_corner_x',\n",
       "       'left_eye_inner_corner_y', 'left_eye_outer_corner_x',\n",
       "       'left_eye_outer_corner_y', 'right_eye_inner_corner_x',\n",
       "       'right_eye_inner_corner_y', 'right_eye_outer_corner_x',\n",
       "       'right_eye_outer_corner_y', 'left_eyebrow_inner_end_x',\n",
       "       'left_eyebrow_inner_end_y', 'left_eyebrow_outer_end_x',\n",
       "       'left_eyebrow_outer_end_y', 'right_eyebrow_inner_end_x',\n",
       "       'right_eyebrow_inner_end_y', 'right_eyebrow_outer_end_x',\n",
       "       'right_eyebrow_outer_end_y', 'nose_tip_x', 'nose_tip_y',\n",
       "       'mouth_left_corner_x', 'mouth_left_corner_y', 'mouth_right_corner_x',\n",
       "       'mouth_right_corner_y', 'mouth_center_top_lip_x',\n",
       "       'mouth_center_top_lip_y', 'mouth_center_bottom_lip_x',\n",
       "       'mouth_center_bottom_lip_y', 'Image'],\n",
       "      dtype='object')"
      ]
     },
     "execution_count": 5,
     "metadata": {},
     "output_type": "execute_result"
    }
   ],
   "source": [
    "df.keys()"
   ]
  },
  {
   "cell_type": "code",
   "execution_count": 7,
   "metadata": {},
   "outputs": [
    {
     "data": {
      "text/plain": [
       "str"
      ]
     },
     "execution_count": 7,
     "metadata": {},
     "output_type": "execute_result"
    }
   ],
   "source": [
    "type(df[\"Image\"].values[0])"
   ]
  },
  {
   "cell_type": "code",
   "execution_count": 17,
   "metadata": {},
   "outputs": [],
   "source": [
    "df = df.dropna()"
   ]
  },
  {
   "cell_type": "code",
   "execution_count": 18,
   "metadata": {},
   "outputs": [],
   "source": [
    "df[\"Image\"] = df[\"Image\"].apply(lambda item: np.fromstring(item,sep= \" \"))"
   ]
  },
  {
   "cell_type": "code",
   "execution_count": 9,
   "metadata": {},
   "outputs": [
    {
     "data": {
      "text/plain": [
       "numpy.ndarray"
      ]
     },
     "execution_count": 9,
     "metadata": {},
     "output_type": "execute_result"
    }
   ],
   "source": [
    "type(df[\"Image\"].values[0])"
   ]
  },
  {
   "cell_type": "code",
   "execution_count": 19,
   "metadata": {},
   "outputs": [],
   "source": [
    "X = np.stack(df[\"Image\"].values) / 255 "
   ]
  },
  {
   "cell_type": "code",
   "execution_count": 20,
   "metadata": {},
   "outputs": [],
   "source": [
    "X = X.astype(np.float32)"
   ]
  },
  {
   "cell_type": "code",
   "execution_count": 21,
   "metadata": {},
   "outputs": [],
   "source": [
    "Y = df[df.columns[:-1]].values"
   ]
  },
  {
   "cell_type": "code",
   "execution_count": 22,
   "metadata": {},
   "outputs": [
    {
     "name": "stdout",
     "output_type": "stream",
     "text": [
      "47.5856799786\n"
     ]
    }
   ],
   "source": [
    "avg_Y = Y.mean()\n",
    "print(avg_Y)"
   ]
  },
  {
   "cell_type": "code",
   "execution_count": 23,
   "metadata": {},
   "outputs": [],
   "source": [
    "Y = (Y - avg_Y)/avg_Y"
   ]
  },
  {
   "cell_type": "code",
   "execution_count": 24,
   "metadata": {},
   "outputs": [
    {
     "name": "stdout",
     "output_type": "stream",
     "text": [
      "(2140, 9216) (2140, 30)\n"
     ]
    }
   ],
   "source": [
    "print(X.shape,Y.shape)"
   ]
  },
  {
   "cell_type": "code",
   "execution_count": 25,
   "metadata": {},
   "outputs": [],
   "source": [
    "def plot_sample(x, y):\n",
    "    img = x.reshape(96, 96)\n",
    "    plt.imshow(img, cmap='gray')\n",
    "    #plt.imshow(img)\n",
    "    plt.scatter(y[0::2] * 48 + 48, y[1::2] * 48 + 48, c = \"red\")"
   ]
  },
  {
   "cell_type": "code",
   "execution_count": 27,
   "metadata": {},
   "outputs": [
    {
     "data": {
      "text/plain": [
       "<matplotlib.image.AxesImage at 0x7f4105056ba8>"
      ]
     },
     "execution_count": 27,
     "metadata": {},
     "output_type": "execute_result"
    },
    {
     "data": {
      "image/png": "[encoded data removed]",
      "text/plain": [
       "<Figure size 432x288 with 1 Axes>"
      ]
     },
     "metadata": {},
     "output_type": "display_data"
    }
   ],
   "source": [
    "img = X[0].reshape(96,96)\n",
    "plt.imshow(img,cmap=\"gray\")"
   ]
  },
  {
   "cell_type": "code",
   "execution_count": 26,
   "metadata": {},
   "outputs": [
    {
     "data": {
      "image/png": "[encoded data removed]",
      "text/plain": [
       "<Figure size 432x288 with 1 Axes>"
      ]
     },
     "metadata": {},
     "output_type": "display_data"
    }
   ],
   "source": [
    "plot_sample(X[0],Y[0])"
   ]
  },
  {
   "cell_type": "code",
   "execution_count": 42,
   "metadata": {},
   "outputs": [
    {
     "name": "stdout",
     "output_type": "stream",
     "text": [
      "_________________________________________________________________\n",
      "Layer (type)                 Output Shape              Param #   \n",
      "=================================================================\n",
      "dense_2 (Dense)              (None, 128)               1179776   \n",
      "_________________________________________________________________\n",
      "activation_1 (Activation)    (None, 128)               0         \n",
      "_________________________________________________________________\n",
      "dropout_1 (Dropout)          (None, 128)               0         \n",
      "_________________________________________________________________\n",
      "dense_3 (Dense)              (None, 64)                8256      \n",
      "_________________________________________________________________\n",
      "activation_2 (Activation)    (None, 64)                0         \n",
      "_________________________________________________________________\n",
      "dense_4 (Dense)              (None, 30)                1950      \n",
      "=================================================================\n",
      "Total params: 1,189,982\n",
      "Trainable params: 1,189,982\n",
      "Non-trainable params: 0\n",
      "_________________________________________________________________\n"
     ]
    }
   ],
   "source": [
    "from keras.models import Sequential\n",
    "from keras.layers import Dense, Activation,Flatten\n",
    "from keras.optimizers import SGD\n",
    "from keras.layers import Dropout\n",
    "\n",
    "model = Sequential()\n",
    "#model.add(Flatten(input_shape = (IMAGE_HEIGHT,IMAGE_WIDTH)))\n",
    "model.add(Dense(128,input_dim = X.shape[1]))\n",
    "model.add(Activation('relu'))\n",
    "model.add(Dropout(0.1))\n",
    "model.add(Dense(64))\n",
    "model.add(Activation('relu'))\n",
    "model.add(Dense(30))\n",
    "\n",
    "model.summary()"
   ]
  },
  {
   "cell_type": "code",
   "execution_count": 43,
   "metadata": {},
   "outputs": [],
   "source": [
    "sgd = SGD(lr=0.01)\n",
    "model.compile(loss='mean_squared_error', optimizer=sgd)\n",
    "\n"
   ]
  },
  {
   "cell_type": "code",
   "execution_count": 45,
   "metadata": {},
   "outputs": [
    {
     "name": "stdout",
     "output_type": "stream",
     "text": [
      "Epoch 1/60\n",
      "2140/2140 [==============================] - 1s 487us/step - loss: 0.0221\n",
      "Epoch 2/60\n",
      "2140/2140 [==============================] - 1s 481us/step - loss: 0.0203\n",
      "Epoch 3/60\n",
      "2140/2140 [==============================] - 1s 508us/step - loss: 0.0189\n",
      "Epoch 4/60\n",
      "2140/2140 [==============================] - 1s 616us/step - loss: 0.0183\n",
      "Epoch 5/60\n",
      "2140/2140 [==============================] - 1s 555us/step - loss: 0.0175\n",
      "Epoch 6/60\n",
      "2140/2140 [==============================] - 1s 476us/step - loss: 0.0165\n",
      "Epoch 7/60\n",
      "2140/2140 [==============================] - 1s 476us/step - loss: 0.0160\n",
      "Epoch 8/60\n",
      "2140/2140 [==============================] - 1s 484us/step - loss: 0.0150\n",
      "Epoch 9/60\n",
      "2140/2140 [==============================] - 1s 479us/step - loss: 0.0147\n",
      "Epoch 10/60\n",
      "2140/2140 [==============================] - 1s 472us/step - loss: 0.0144\n",
      "Epoch 11/60\n",
      "2140/2140 [==============================] - 1s 492us/step - loss: 0.0138\n",
      "Epoch 12/60\n",
      "2140/2140 [==============================] - 1s 484us/step - loss: 0.0137\n",
      "Epoch 13/60\n",
      "2140/2140 [==============================] - 1s 480us/step - loss: 0.0130\n",
      "Epoch 14/60\n",
      "2140/2140 [==============================] - 1s 474us/step - loss: 0.0129\n",
      "Epoch 15/60\n",
      "2140/2140 [==============================] - 1s 495us/step - loss: 0.0125\n",
      "Epoch 16/60\n",
      "2140/2140 [==============================] - 1s 473us/step - loss: 0.0122\n",
      "Epoch 17/60\n",
      "2140/2140 [==============================] - 1s 478us/step - loss: 0.0120\n",
      "Epoch 18/60\n",
      "2140/2140 [==============================] - 1s 473us/step - loss: 0.0118\n",
      "Epoch 19/60\n",
      "2140/2140 [==============================] - 1s 477us/step - loss: 0.0116\n",
      "Epoch 20/60\n",
      "2140/2140 [==============================] - 1s 536us/step - loss: 0.0114\n",
      "Epoch 21/60\n",
      "2140/2140 [==============================] - 1s 551us/step - loss: 0.0110\n",
      "Epoch 22/60\n",
      "2140/2140 [==============================] - 1s 484us/step - loss: 0.0112\n",
      "Epoch 23/60\n",
      "2140/2140 [==============================] - 1s 469us/step - loss: 0.0108\n",
      "Epoch 24/60\n",
      "2140/2140 [==============================] - 1s 473us/step - loss: 0.0107\n",
      "Epoch 25/60\n",
      "2140/2140 [==============================] - 1s 471us/step - loss: 0.0104\n",
      "Epoch 26/60\n",
      "2140/2140 [==============================] - 1s 471us/step - loss: 0.0102\n",
      "Epoch 27/60\n",
      "2140/2140 [==============================] - 1s 483us/step - loss: 0.0102\n",
      "Epoch 28/60\n",
      "2140/2140 [==============================] - 1s 470us/step - loss: 0.0100\n",
      "Epoch 29/60\n",
      "2140/2140 [==============================] - 1s 469us/step - loss: 0.0099\n",
      "Epoch 30/60\n",
      "2140/2140 [==============================] - 1s 483us/step - loss: 0.0098\n",
      "Epoch 31/60\n",
      "2140/2140 [==============================] - 1s 473us/step - loss: 0.0097\n",
      "Epoch 32/60\n",
      "2140/2140 [==============================] - 1s 466us/step - loss: 0.0094\n",
      "Epoch 33/60\n",
      "2140/2140 [==============================] - 1s 475us/step - loss: 0.0094\n",
      "Epoch 34/60\n",
      "2140/2140 [==============================] - 1s 483us/step - loss: 0.0094\n",
      "Epoch 35/60\n",
      "2140/2140 [==============================] - 1s 469us/step - loss: 0.0093\n",
      "Epoch 36/60\n",
      "2140/2140 [==============================] - 1s 474us/step - loss: 0.0092\n",
      "Epoch 37/60\n",
      "2140/2140 [==============================] - 1s 475us/step - loss: 0.0090\n",
      "Epoch 38/60\n",
      "2140/2140 [==============================] - 1s 481us/step - loss: 0.0091\n",
      "Epoch 39/60\n",
      "2140/2140 [==============================] - 1s 476us/step - loss: 0.0090\n",
      "Epoch 40/60\n",
      "2140/2140 [==============================] - 1s 467us/step - loss: 0.0088\n",
      "Epoch 41/60\n",
      "2140/2140 [==============================] - 1s 475us/step - loss: 0.0087\n",
      "Epoch 42/60\n",
      "2140/2140 [==============================] - 1s 483us/step - loss: 0.0086\n",
      "Epoch 43/60\n",
      "2140/2140 [==============================] - 1s 469us/step - loss: 0.0084\n",
      "Epoch 44/60\n",
      "2140/2140 [==============================] - 1s 466us/step - loss: 0.0084\n",
      "Epoch 45/60\n",
      "2140/2140 [==============================] - 1s 473us/step - loss: 0.0083\n",
      "Epoch 46/60\n",
      "2140/2140 [==============================] - 1s 484us/step - loss: 0.0083\n",
      "Epoch 47/60\n",
      "2140/2140 [==============================] - 1s 476us/step - loss: 0.0083\n",
      "Epoch 48/60\n",
      "2140/2140 [==============================] - 1s 471us/step - loss: 0.0081\n",
      "Epoch 49/60\n",
      "2140/2140 [==============================] - 1s 470us/step - loss: 0.0081\n",
      "Epoch 50/60\n",
      "2140/2140 [==============================] - 1s 478us/step - loss: 0.0080\n",
      "Epoch 51/60\n",
      "2140/2140 [==============================] - 1s 478us/step - loss: 0.0080\n",
      "Epoch 52/60\n",
      "2140/2140 [==============================] - 1s 471us/step - loss: 0.0078\n",
      "Epoch 53/60\n",
      "2140/2140 [==============================] - 1s 581us/step - loss: 0.0079\n",
      "Epoch 54/60\n",
      "2140/2140 [==============================] - 1s 621us/step - loss: 0.0077\n",
      "Epoch 55/60\n",
      "2140/2140 [==============================] - 1s 506us/step - loss: 0.0077\n",
      "Epoch 56/60\n",
      "2140/2140 [==============================] - 1s 509us/step - loss: 0.0076\n",
      "Epoch 57/60\n",
      "2140/2140 [==============================] - 1s 532us/step - loss: 0.0076\n",
      "Epoch 58/60\n",
      "2140/2140 [==============================] - 1s 524us/step - loss: 0.0075\n",
      "Epoch 59/60\n",
      "2140/2140 [==============================] - 1s 497us/step - loss: 0.0074\n",
      "Epoch 60/60\n",
      "2140/2140 [==============================] - 1s 509us/step - loss: 0.0075\n"
     ]
    },
    {
     "data": {
      "text/plain": [
       "<keras.callbacks.History at 0x7f0879d840b8>"
      ]
     },
     "execution_count": 45,
     "metadata": {},
     "output_type": "execute_result"
    }
   ],
   "source": [
    "model.fit(X, Y, epochs = 60)"
   ]
  },
  {
   "cell_type": "code",
   "execution_count": 48,
   "metadata": {},
   "outputs": [],
   "source": [
    "y_pred = model.predict(X)"
   ]
  },
  {
   "cell_type": "code",
   "execution_count": 52,
   "metadata": {},
   "outputs": [],
   "source": [
    "temp = [X[0],X[1]]"
   ]
  },
  {
   "cell_type": "code",
   "execution_count": 53,
   "metadata": {},
   "outputs": [],
   "source": [
    "temp = np.stack(temp)"
   ]
  },
  {
   "cell_type": "code",
   "execution_count": 54,
   "metadata": {},
   "outputs": [
    {
     "data": {
      "text/plain": [
       "array([[ 0.93333334,  0.9254902 ,  0.92941177, ...,  0.27450982,\n",
       "         0.29411766,  0.35294119],\n",
       "       [ 0.85882354,  0.84313726,  0.80000001, ...,  0.00392157,\n",
       "         0.00392157,  0.00392157]], dtype=float32)"
      ]
     },
     "execution_count": 54,
     "metadata": {},
     "output_type": "execute_result"
    }
   ],
   "source": [
    "temp"
   ]
  },
  {
   "cell_type": "code",
   "execution_count": null,
   "metadata": {},
   "outputs": [],
   "source": []
  }
 ],
 "metadata": {
  "kernelspec": {
   "display_name": "Python 3",
   "language": "python",
   "name": "python3"
  },
  "language_info": {
   "codemirror_mode": {
    "name": "ipython",
    "version": 3
   },
   "file_extension": ".py",
   "mimetype": "text/x-python",
   "name": "python",
   "nbconvert_exporter": "python",
   "pygments_lexer": "ipython3",
   "version": "3.6.5"
  }
 },
 "nbformat": 4,
 "nbformat_minor": 2
}
